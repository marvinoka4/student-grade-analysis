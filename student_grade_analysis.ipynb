{
 "cells": [
  {
   "cell_type": "code",
   "execution_count": 2,
   "id": "314d42ca-c9bf-445e-9898-6b6bca6782ee",
   "metadata": {
    "tags": []
   },
   "outputs": [],
   "source": [
    "import pandas as pd\n",
    "import numpy as np"
   ]
  },
  {
   "cell_type": "code",
   "execution_count": 3,
   "id": "6bf13049-faf7-40cb-b8ad-cd43fb18b4ee",
   "metadata": {
    "tags": []
   },
   "outputs": [],
   "source": [
    "student_logs = pd.read_csv(\"dataset/logs.csv\")\n",
    "student_scores = pd.read_csv(\"dataset/scores.csv\")"
   ]
  },
  {
   "cell_type": "code",
   "execution_count": 4,
   "id": "12b98c70-5717-4799-92d8-512c19a31705",
   "metadata": {
    "tags": []
   },
   "outputs": [
    {
     "data": {
      "text/html": [
       "<div>\n",
       "<style scoped>\n",
       "    .dataframe tbody tr th:only-of-type {\n",
       "        vertical-align: middle;\n",
       "    }\n",
       "\n",
       "    .dataframe tbody tr th {\n",
       "        vertical-align: top;\n",
       "    }\n",
       "\n",
       "    .dataframe thead th {\n",
       "        text-align: right;\n",
       "    }\n",
       "</style>\n",
       "<table border=\"1\" class=\"dataframe\">\n",
       "  <thead>\n",
       "    <tr style=\"text-align: right;\">\n",
       "      <th></th>\n",
       "      <th>StudentId</th>\n",
       "      <th>Time</th>\n",
       "      <th>Type</th>\n",
       "      <th>Action</th>\n",
       "    </tr>\n",
       "  </thead>\n",
       "  <tbody>\n",
       "    <tr>\n",
       "      <th>0</th>\n",
       "      <td>72af</td>\n",
       "      <td>28/05/23, 10:51</td>\n",
       "      <td>User report</td>\n",
       "      <td>Grade user report viewed</td>\n",
       "    </tr>\n",
       "    <tr>\n",
       "      <th>1</th>\n",
       "      <td>72af</td>\n",
       "      <td>28/05/23, 10:51</td>\n",
       "      <td>System</td>\n",
       "      <td>Course viewed</td>\n",
       "    </tr>\n",
       "    <tr>\n",
       "      <th>2</th>\n",
       "      <td>c426</td>\n",
       "      <td>27/05/23, 15:53</td>\n",
       "      <td>System</td>\n",
       "      <td>Course viewed</td>\n",
       "    </tr>\n",
       "    <tr>\n",
       "      <th>3</th>\n",
       "      <td>0326</td>\n",
       "      <td>26/05/23, 22:22</td>\n",
       "      <td>System</td>\n",
       "      <td>Course viewed</td>\n",
       "    </tr>\n",
       "    <tr>\n",
       "      <th>4</th>\n",
       "      <td>8b7a</td>\n",
       "      <td>26/05/23, 21:52</td>\n",
       "      <td>System</td>\n",
       "      <td>Course viewed</td>\n",
       "    </tr>\n",
       "  </tbody>\n",
       "</table>\n",
       "</div>"
      ],
      "text/plain": [
       "  StudentId             Time         Type                    Action\n",
       "0      72af  28/05/23, 10:51  User report  Grade user report viewed\n",
       "1      72af  28/05/23, 10:51       System             Course viewed\n",
       "2      c426  27/05/23, 15:53       System             Course viewed\n",
       "3      0326  26/05/23, 22:22       System             Course viewed\n",
       "4      8b7a  26/05/23, 21:52       System             Course viewed"
      ]
     },
     "execution_count": 4,
     "metadata": {},
     "output_type": "execute_result"
    }
   ],
   "source": [
    "student_logs.head()"
   ]
  },
  {
   "cell_type": "code",
   "execution_count": 5,
   "id": "053e821b-cde0-4d8d-a58c-e7e1cee95667",
   "metadata": {
    "tags": []
   },
   "outputs": [
    {
     "data": {
      "text/html": [
       "<div>\n",
       "<style scoped>\n",
       "    .dataframe tbody tr th:only-of-type {\n",
       "        vertical-align: middle;\n",
       "    }\n",
       "\n",
       "    .dataframe tbody tr th {\n",
       "        vertical-align: top;\n",
       "    }\n",
       "\n",
       "    .dataframe thead th {\n",
       "        text-align: right;\n",
       "    }\n",
       "</style>\n",
       "<table border=\"1\" class=\"dataframe\">\n",
       "  <thead>\n",
       "    <tr style=\"text-align: right;\">\n",
       "      <th></th>\n",
       "      <th>StudentId</th>\n",
       "      <th>Grade</th>\n",
       "    </tr>\n",
       "  </thead>\n",
       "  <tbody>\n",
       "    <tr>\n",
       "      <th>0</th>\n",
       "      <td>c426</td>\n",
       "      <td>2nd</td>\n",
       "    </tr>\n",
       "    <tr>\n",
       "      <th>1</th>\n",
       "      <td>8de3</td>\n",
       "      <td>2nd</td>\n",
       "    </tr>\n",
       "    <tr>\n",
       "      <th>2</th>\n",
       "      <td>d969</td>\n",
       "      <td>2nd</td>\n",
       "    </tr>\n",
       "    <tr>\n",
       "      <th>3</th>\n",
       "      <td>6d29</td>\n",
       "      <td>1st</td>\n",
       "    </tr>\n",
       "    <tr>\n",
       "      <th>4</th>\n",
       "      <td>1dd9</td>\n",
       "      <td>1st</td>\n",
       "    </tr>\n",
       "  </tbody>\n",
       "</table>\n",
       "</div>"
      ],
      "text/plain": [
       "  StudentId Grade\n",
       "0      c426   2nd\n",
       "1      8de3   2nd\n",
       "2      d969   2nd\n",
       "3      6d29   1st\n",
       "4      1dd9   1st"
      ]
     },
     "execution_count": 5,
     "metadata": {},
     "output_type": "execute_result"
    }
   ],
   "source": [
    "student_scores.head()"
   ]
  },
  {
   "cell_type": "code",
   "execution_count": 6,
   "id": "f0a358d9-7bf6-442c-8e80-a29c59d3b2da",
   "metadata": {
    "tags": []
   },
   "outputs": [],
   "source": [
    "# feature engineering\n",
    "# hypothesis 1 - find out if more logs in total means higher final score\n",
    "# hypothesis 2 - find out if more logs on a weekly basis means higher final score"
   ]
  },
  {
   "cell_type": "code",
   "execution_count": 7,
   "id": "2e189d85-2912-46fb-bb9f-91b8e0facc51",
   "metadata": {
    "tags": []
   },
   "outputs": [
    {
     "name": "stdout",
     "output_type": "stream",
     "text": [
      "    StudentId  Count\n",
      "91       d3e2   1979\n",
      "21       37dc   1903\n",
      "53       7703   1774\n",
      "34       584e   1705\n",
      "8        0ea4   1692\n",
      "..        ...    ...\n",
      "110      f63c    146\n",
      "95       d884    145\n",
      "25       486d    143\n",
      "0        0126    126\n",
      "105      edfc    116\n",
      "\n",
      "[115 rows x 2 columns]\n",
      "d3e2\n",
      "edfc\n"
     ]
    }
   ],
   "source": [
    "# for hypothesis 1\n",
    "# 1. find the total logs\n",
    "counts_per_column = student_logs.count()\n",
    "# print (counts_per_column)\n",
    "# 1.1. group the occurrences by id and sort in descending order \n",
    "student_count = student_logs.groupby('StudentId').size().reset_index(name='Count').sort_values(['Count'], ascending=False)\n",
    "student_count_max = student_logs.groupby('StudentId').size().idxmax()\n",
    "student_count_min = student_logs.groupby('StudentId').size().idxmin()\n",
    "print(student_count)\n",
    "print(student_count_max)\n",
    "print(student_count_min)\n",
    "# 1.5 find the students with highest logs\n",
    "# 2. find the total scores\n",
    "# 2.5 find the students with highest scores\n",
    "# 3. compare total logs to total scores\n"
   ]
  },
  {
   "cell_type": "code",
   "execution_count": null,
   "id": "6f942775-aac7-4c09-8e80-40515605011d",
   "metadata": {},
   "outputs": [],
   "source": []
  }
 ],
 "metadata": {
  "kernelspec": {
   "display_name": "Python 3 (ipykernel)",
   "language": "python",
   "name": "python3"
  },
  "language_info": {
   "codemirror_mode": {
    "name": "ipython",
    "version": 3
   },
   "file_extension": ".py",
   "mimetype": "text/x-python",
   "name": "python",
   "nbconvert_exporter": "python",
   "pygments_lexer": "ipython3",
   "version": "3.11.5"
  }
 },
 "nbformat": 4,
 "nbformat_minor": 5
}
